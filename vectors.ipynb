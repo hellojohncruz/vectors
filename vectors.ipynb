{
 "cells": [
  {
   "cell_type": "markdown",
   "id": "887d85de-98a5-4680-aaaa-dfd38669de32",
   "metadata": {},
   "source": [
    "# Vector Arithmetic"
   ]
  },
  {
   "cell_type": "code",
   "execution_count": 2,
   "id": "8cc8a010-8331-4d97-a696-04a068e15d30",
   "metadata": {},
   "outputs": [],
   "source": [
    "import numpy as np"
   ]
  },
  {
   "cell_type": "code",
   "execution_count": 5,
   "id": "eb013a6d-fc30-4530-9c15-ba15f4c9b4a9",
   "metadata": {},
   "outputs": [
    {
     "name": "stdout",
     "output_type": "stream",
     "text": [
      "[3 5 7 9]\n",
      "4\n"
     ]
    }
   ],
   "source": [
    "vec = np.array([3,5,7,9])\n",
    "print(vec)\n",
    "print(len(vec))"
   ]
  },
  {
   "cell_type": "markdown",
   "id": "435655aa-5d7c-4de6-9de5-526155ebbf17",
   "metadata": {},
   "source": [
    "## Vector Addition"
   ]
  },
  {
   "cell_type": "markdown",
   "id": "45bf0fa1-e1df-45a5-be0c-ed0f8018c4bc",
   "metadata": {},
   "source": [
    "$c=a+b$"
   ]
  },
  {
   "cell_type": "code",
   "execution_count": 9,
   "id": "d3796f18-47af-4bf4-a7f0-64a189cfc998",
   "metadata": {},
   "outputs": [
    {
     "name": "stdout",
     "output_type": "stream",
     "text": [
      "[91 23 13]\n",
      "[18 42 31]\n",
      "[109  65  44]\n"
     ]
    }
   ],
   "source": [
    "# define first vector\n",
    "a = np.array([91, 23, 13])\n",
    "print(a)\n",
    "\n",
    "# define second vector\n",
    "b = np.array([18, 42, 31])\n",
    "print(b)\n",
    "\n",
    "# add vectors\n",
    "c = a + b\n",
    "print(c)"
   ]
  },
  {
   "cell_type": "markdown",
   "id": "78836a83-46b4-442c-859b-93849c99e222",
   "metadata": {},
   "source": [
    "## Vector Subtraction"
   ]
  },
  {
   "cell_type": "markdown",
   "id": "6303e0b3-16c2-4a99-ad2f-c35b00d6f020",
   "metadata": {},
   "source": [
    "$c=a-b$"
   ]
  },
  {
   "cell_type": "code",
   "execution_count": 13,
   "id": "0b3cd698-47a2-4846-ad20-80f8ffdd06ba",
   "metadata": {},
   "outputs": [
    {
     "name": "stdout",
     "output_type": "stream",
     "text": [
      "[ 33 108   9]\n",
      "[92.  34.  87.3]\n",
      "[-59.   74.  -78.3]\n"
     ]
    }
   ],
   "source": [
    "# define first vector\n",
    "a = np.array([33, 108, 9])\n",
    "print(a)\n",
    "\n",
    "# define second vector\n",
    "b = np.array([92, 34, 87])\n",
    "print(b)\n",
    "\n",
    "# add vectors\n",
    "c = a - b\n",
    "print(c)"
   ]
  },
  {
   "cell_type": "markdown",
   "id": "907c4a5a-6ac4-429a-8cce-fa1046c74163",
   "metadata": {},
   "source": [
    "## Vector Multiplication"
   ]
  },
  {
   "cell_type": "markdown",
   "id": "88eb121f-873a-4077-a0ac-15aa1be72298",
   "metadata": {},
   "source": [
    "$c = a * b$"
   ]
  },
  {
   "cell_type": "code",
   "execution_count": 14,
   "id": "bcb0ae86-c4d7-4354-92cc-f5907e83388b",
   "metadata": {},
   "outputs": [
    {
     "name": "stdout",
     "output_type": "stream",
     "text": [
      "[33.  14.2  9. ]\n",
      "[  3.9  34.  105. ]\n",
      "[128.7 482.8 945. ]\n"
     ]
    }
   ],
   "source": [
    "# define first vector\n",
    "a = np.array([33, 14.2, 9])\n",
    "print(a)\n",
    "\n",
    "# define second vector\n",
    "b = np.array([3.9, 34, 105])\n",
    "print(b)\n",
    "\n",
    "# add vectors\n",
    "c = a * b\n",
    "print(c)"
   ]
  },
  {
   "cell_type": "markdown",
   "id": "f7237309-d8cf-49c3-a05e-d9bf651c0659",
   "metadata": {},
   "source": [
    "## Vector Division"
   ]
  },
  {
   "cell_type": "markdown",
   "id": "d2a3a86f-500b-440c-baaf-e5549d40d01d",
   "metadata": {},
   "source": [
    "$c=\\frac{a}{b}$"
   ]
  },
  {
   "cell_type": "code",
   "execution_count": 15,
   "id": "d6135d91-a746-4df7-93fa-023680e5961e",
   "metadata": {},
   "outputs": [
    {
     "name": "stdout",
     "output_type": "stream",
     "text": [
      "[1 2 3]\n",
      "[1 2 3]\n",
      "[1. 1. 1.]\n"
     ]
    }
   ],
   "source": [
    "# define first vector\n",
    "a = np.array([1, 2, 3])\n",
    "print(a)\n",
    "\n",
    "# define second vector\n",
    "b = np.array([1, 2, 3])\n",
    "print(b)\n",
    "\n",
    "# divide vectors\n",
    "c = a / b\n",
    "print(c)"
   ]
  },
  {
   "cell_type": "markdown",
   "id": "8fb95126-c941-442e-9469-d40a5123e927",
   "metadata": {},
   "source": [
    "## Vector Dot Product"
   ]
  },
  {
   "cell_type": "markdown",
   "id": "fbd4d48b-f8ab-4f45-8922-8cce27acb8cf",
   "metadata": {},
   "source": [
    "$c = a · b$"
   ]
  },
  {
   "cell_type": "code",
   "execution_count": 17,
   "id": "57fbf7e7-eda5-4b97-be1e-57d1ba7b150b",
   "metadata": {},
   "outputs": [
    {
     "name": "stdout",
     "output_type": "stream",
     "text": [
      "[1 2 3]\n",
      "[1 2 3]\n",
      "14\n"
     ]
    }
   ],
   "source": [
    "# define first vector\n",
    "a = np.array([1, 2, 3])\n",
    "print(a)\n",
    "\n",
    "# define second vector\n",
    "b = np.array([1, 2, 3])\n",
    "print(b)\n",
    "\n",
    "# multiply vectors\n",
    "c = a.dot(b)\n",
    "print(c)"
   ]
  },
  {
   "cell_type": "markdown",
   "id": "95646532-a39e-46f5-8c8e-d41bdea51cfd",
   "metadata": {},
   "source": [
    "## Vector Scalar Multiplication"
   ]
  },
  {
   "cell_type": "markdown",
   "id": "6bcf2bf8-bf9b-4efd-8c0b-df112e2d64b1",
   "metadata": {},
   "source": [
    "$c=sa$"
   ]
  },
  {
   "cell_type": "code",
   "execution_count": 20,
   "id": "2605fdf5-4c44-421e-9cbb-00972b1a5a8f",
   "metadata": {},
   "outputs": [
    {
     "name": "stdout",
     "output_type": "stream",
     "text": [
      "[1 2 3]\n",
      "0.5\n",
      "[0.5 1.  1.5]\n"
     ]
    }
   ],
   "source": [
    "# define vector\n",
    "a = np.array([1, 2, 3])\n",
    "print(a)\n",
    "\n",
    "# define scalar\n",
    "s = 0.5\n",
    "print(s)\n",
    "\n",
    "# multiplication\n",
    "c = s * a\n",
    "print(c)"
   ]
  },
  {
   "cell_type": "code",
   "execution_count": null,
   "id": "937488be-196c-41d8-a2e9-cc6c3b453baf",
   "metadata": {},
   "outputs": [],
   "source": []
  }
 ],
 "metadata": {
  "kernelspec": {
   "display_name": "Python 3 (ipykernel)",
   "language": "python",
   "name": "python3"
  },
  "language_info": {
   "codemirror_mode": {
    "name": "ipython",
    "version": 3
   },
   "file_extension": ".py",
   "mimetype": "text/x-python",
   "name": "python",
   "nbconvert_exporter": "python",
   "pygments_lexer": "ipython3",
   "version": "3.8.5"
  }
 },
 "nbformat": 4,
 "nbformat_minor": 5
}
